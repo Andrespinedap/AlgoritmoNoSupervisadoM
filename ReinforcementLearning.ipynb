{
  "nbformat": 4,
  "nbformat_minor": 0,
  "metadata": {
    "colab": {
      "provenance": [],
      "authorship_tag": "ABX9TyPTAUjgOkoF4hm/TSq+lSjU",
      "include_colab_link": true
    },
    "kernelspec": {
      "name": "python3",
      "display_name": "Python 3"
    },
    "language_info": {
      "name": "python"
    }
  },
  "cells": [
    {
      "cell_type": "markdown",
      "metadata": {
        "id": "view-in-github",
        "colab_type": "text"
      },
      "source": [
        "<a href=\"https://colab.research.google.com/github/Andrespinedap/AlgoritmoNoSupervisadoM/blob/main/ReinforcementLearning.ipynb\" target=\"_parent\"><img src=\"https://colab.research.google.com/assets/colab-badge.svg\" alt=\"Open In Colab\"/></a>"
      ]
    },
    {
      "cell_type": "code",
      "execution_count": null,
      "metadata": {
        "id": "x79MZOF5Bhb3"
      },
      "outputs": [],
      "source": [
        "import numpy as np\n",
        "import matplotlib.pyplot as plt\n",
        "\n",
        "# Dimensiones del laberinto\n",
        "laberinto_dim = (100, 100)\n",
        "\n",
        "# Crear laberinto vacío\n",
        "laberinto = np.zeros(laberinto_dim)\n",
        "\n",
        "# Agregar obstáculos aleatorios (representados por 1)\n",
        "np.random.seed(42)  # Semilla para reproducibilidad\n",
        "num_obstaculos = int(laberinto.size * 0.3)  # 30% del laberinto como obstáculos\n",
        "obstaculos = np.random.choice(laberinto.size, num_obstaculos, replace=False)\n",
        "laberinto[np.unravel_index(obstaculos, laberinto_dim)] = 1\n",
        "\n",
        "# Agregar objetivo (representado por 2)\n",
        "meta_pos = (np.random.randint(laberinto_dim[0]), np.random.randint(laberinto_dim[1]))\n",
        "while laberinto[meta_pos] == 1:\n",
        "    meta_pos = (np.random.randint(laberinto_dim[0]), np.random.randint(laberinto_dim[1]))\n",
        "laberinto[meta_pos] = 2\n",
        "\n",
        "# Visualización inicial\n",
        "plt.imshow(laberinto, cmap=\"viridis\")\n",
        "plt.title(\"Laberinto Inicial\")\n",
        "plt.show()\n"
      ]
    },
    {
      "cell_type": "code",
      "source": [
        "# Acciones posibles\n",
        "acciones = ['arriba', 'abajo', 'izquierda', 'derecha']\n",
        "acciones_dict = {\n",
        "    'arriba': (-1, 0),\n",
        "    'abajo': (1, 0),\n",
        "    'izquierda': (0, -1),\n",
        "    'derecha': (0, 1)\n",
        "}\n",
        "\n",
        "def validar_movimiento(pos, accion, laberinto):\n",
        "    nueva_pos = (pos[0] + accion[0], pos[1] + accion[1])\n",
        "    if (0 <= nueva_pos[0] < laberinto.shape[0] and\n",
        "        0 <= nueva_pos[1] < laberinto.shape[1] and\n",
        "        laberinto[nueva_pos] != 1):\n",
        "        return nueva_pos\n",
        "    return pos\n"
      ],
      "metadata": {
        "id": "hefBFnS7Cyth"
      },
      "execution_count": null,
      "outputs": []
    }
  ]
}